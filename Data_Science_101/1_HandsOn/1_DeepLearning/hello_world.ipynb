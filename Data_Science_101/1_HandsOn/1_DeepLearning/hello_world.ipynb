{
  "cells": [
    {
      "cell_type": "markdown",
      "metadata": {
        "id": "view-in-github",
        "colab_type": "text"
      },
      "source": [
        "<a href=\"https://colab.research.google.com/github/carlosarturoceron/dataKids/blob/main/hello_world.ipynb\" target=\"_parent\"><img src=\"https://colab.research.google.com/assets/colab-badge.svg\" alt=\"Open In Colab\"/></a>"
      ]
    },
    {
      "cell_type": "code",
      "execution_count": 1,
      "metadata": {
        "colab": {
          "base_uri": "https://localhost:8080/"
        },
        "id": "yYf2omlXJ77c",
        "outputId": "47401279-cd1b-45ee-a4f0-bf06ddcad013"
      },
      "outputs": [
        {
          "output_type": "stream",
          "name": "stdout",
          "text": [
            "2.15.0\n"
          ]
        }
      ],
      "source": [
        "import tensorflow as tf\n",
        "import numpy as np\n",
        "from tensorflow import keras\n",
        "import matplotlib.pyplot as plt\n",
        "\n",
        "print(tf.__version__)"
      ]
    },
    {
      "cell_type": "markdown",
      "source": [
        "## El \"Hola Mundo\" del Aprendizaje Profundo con Redes Neuronales\n",
        "---\n",
        "\n",
        "source: https://github.com/https-deeplearning-ai/tensorflow-1-public"
      ],
      "metadata": {
        "id": "ZflqS4JZLRxV"
      }
    },
    {
      "cell_type": "markdown",
      "source": [
        "Como en toda primera aplicación, deberías comenzar con algo súper simple que muestre la estructura general de cómo funciona tu código. En el caso de crear redes neuronales, un caso simple es cuando aprende la relación entre dos números."
      ],
      "metadata": {
        "id": "kw47uunLLT1j"
      }
    },
    {
      "cell_type": "markdown",
      "source": [
        "Por ejemplo considera el siguiente conjunto de datos x,y"
      ],
      "metadata": {
        "id": "GFVRIqghNZrt"
      }
    },
    {
      "cell_type": "code",
      "source": [
        "### Los datos\n",
        "xs = np.array([-1.0, 0.0, 1.0, 2.0, 3.0, 4.0], dtype=float)\n",
        "ys = np.array([-3.0, -1.0, 1.0, 3.0, 5.0, 7.0], dtype=float)"
      ],
      "metadata": {
        "id": "B8cZOTRZMPFi"
      },
      "execution_count": 11,
      "outputs": []
    },
    {
      "cell_type": "code",
      "source": [
        "# prompt: make a plot of xs,ys\n",
        "\n",
        "plt.plot(xs, ys, '.')\n",
        "plt.xlabel('x')\n",
        "plt.ylabel('y')\n",
        "plt.show()"
      ],
      "metadata": {
        "colab": {
          "base_uri": "https://localhost:8080/",
          "height": 470
        },
        "id": "2dUtJS39MU7A",
        "outputId": "ee094073-6f86-47cd-9747-249735e5db84"
      },
      "execution_count": 12,
      "outputs": [
        {
          "output_type": "display_data",
          "data": {
            "text/plain": [
              "<Figure size 640x480 with 1 Axes>"
            ],
            "image/png": "[encoded data removed]"
          },
          "metadata": {}
        }
      ]
    },
    {
      "cell_type": "markdown",
      "source": [
        "Nota qué y = 2x - 1"
      ],
      "metadata": {
        "id": "wSkazj8cNhTc"
      }
    },
    {
      "cell_type": "markdown",
      "source": [
        "Si estuvieras escribiendo código para una función como esta, ya conoces las 'reglas':"
      ],
      "metadata": {
        "id": "PARayAc4NdTk"
      }
    },
    {
      "cell_type": "code",
      "source": [
        "def predecir(x):\n",
        "    y = (2 * x) - 1\n",
        "    return y"
      ],
      "metadata": {
        "id": "dZrfVCsyNwyt"
      },
      "execution_count": 21,
      "outputs": []
    },
    {
      "cell_type": "code",
      "source": [
        "predecir(5)"
      ],
      "metadata": {
        "colab": {
          "base_uri": "https://localhost:8080/"
        },
        "id": "v9LMMwBvNyAN",
        "outputId": "f280e12d-832f-4e6d-bd2e-6d07a4d8e0f0"
      },
      "execution_count": 22,
      "outputs": [
        {
          "output_type": "execute_result",
          "data": {
            "text/plain": [
              "9"
            ]
          },
          "metadata": {},
          "execution_count": 22
        }
      ]
    },
    {
      "cell_type": "markdown",
      "source": [
        "\n",
        "Entonces, ¿cómo entrenarías una red neuronal para hacer la tarea equivalente? ¡Usando datos! Al alimentarla con un conjunto de x's e y's, debería ser capaz de descubrir la relación entre ellos.\n",
        "\n",
        "Obviamente, este es un paradigma muy diferente al que podrías estar acostumbrado. Así que vamos a analizarlo paso a paso."
      ],
      "metadata": {
        "id": "cQewcbFIOFBp"
      }
    },
    {
      "cell_type": "markdown",
      "metadata": {
        "id": "Bw99F4glJ77g"
      },
      "source": [
        "### Define y compila la Red Neuronal\n",
        "\n",
        "A continuación, crearás la red neuronal más simple posible. Tiene 1 capa con 1 neurona, y la forma de entrada es solo 1 valor. Construirás este modelo usando la clase [Sequential](https://keras.io/api/models/sequential/) de Keras, que te permite definir la red como una secuencia de [capas](https://keras.io/api/layers/). Puedes usar una única capa [Dense](https://keras.io/api/layers/core_layers/dense/) para construir esta red simple como se muestra a continuación.\n"
      ]
    },
    {
      "cell_type": "code",
      "execution_count": 14,
      "metadata": {
        "id": "Bk_tZJEZJ77h"
      },
      "outputs": [],
      "source": [
        "# Crea la red neuronal más simple.\n",
        "# 1 capa, 1 neurona, con tamaño de entrada 1\n",
        "model = tf.keras.Sequential([keras.layers.Dense(units=1, input_shape=[1])])"
      ]
    },
    {
      "cell_type": "markdown",
      "metadata": {
        "id": "mmDK8DLWJ77i"
      },
      "source": [
        "Ahora, compilarás la red neuronal. Cuando lo hagas, tendrás que especificar 2 funciones: una función de [pérdida](https://keras.io/api/losses/) y un [optimizador](https://keras.io/api/optimizers/).\n",
        "\n",
        "Si has visto mucha matemática para el aprendizaje automático, aquí es donde suele usarse. Pero en este caso, está encapsulado de forma clara en funciones y clases para ti. ¿Pero qué sucede aquí? Explicaremos...\n",
        "\n",
        "Sabes que en la función declarada al principio de este cuaderno, la relación entre los números es `y=2x-1`. Cuando la computadora intenta 'aprender' eso, hace una suposición... tal vez `y=10x+10`. La función de `pérdida` mide las respuestas supuestas con respecto a las respuestas correctas conocidas y mide qué tan bien o qué tan mal lo hizo.\n",
        "\n",
        "Luego usa la función `optimizador` para hacer otra suposición. Basándose en cómo fue la función de pérdida, intentará minimizar la pérdida. En ese momento, quizás llegue a algo como `y=5x+5`, que, aunque sigue siendo bastante malo, está más cerca del resultado correcto (es decir, la pérdida es menor).\n",
        "\n",
        "Repetirá esto durante el número de _épocas_ que verás en breve. Pero primero, aquí te explicamos cómo le dirás que use [error cuadrático medio](https://keras.io/api/losses/regression_losses/#meansquarederror-function) para la pérdida y [descenso de gradiente estocástico](https://keras.io/api/optimizers/sgd/) para el optimizador. ¡No necesitas entender la matemática de estos todavía, pero puedes ver que funcionan!\n",
        "\n",
        "Con el tiempo, aprenderás las diferentes funciones de pérdida y optimización apropiadas para diferentes escenarios.\n"
      ]
    },
    {
      "cell_type": "code",
      "execution_count": 15,
      "metadata": {
        "id": "oBTvBMnsJ77i"
      },
      "outputs": [],
      "source": [
        "model.compile(optimizer='sgd', loss='mean_squared_error')"
      ]
    },
    {
      "cell_type": "markdown",
      "metadata": {
        "id": "gG3MGqm6J77j"
      },
      "source": [
        "Entrenar la red"
      ]
    },
    {
      "cell_type": "code",
      "execution_count": 28,
      "metadata": {
        "colab": {
          "base_uri": "https://localhost:8080/"
        },
        "id": "_oTuQJQwJ77j",
        "outputId": "1e8532a2-d67f-459b-d7a8-d8c55fd631db"
      },
      "outputs": [
        {
          "output_type": "stream",
          "name": "stdout",
          "text": [
            "Epoch 1/5\n",
            "1/1 [==============================] - 0s 36ms/step - loss: 0.0756\n",
            "Epoch 2/5\n",
            "1/1 [==============================] - 0s 12ms/step - loss: 0.0741\n",
            "Epoch 3/5\n",
            "1/1 [==============================] - 0s 11ms/step - loss: 0.0726\n",
            "Epoch 4/5\n",
            "1/1 [==============================] - 0s 15ms/step - loss: 0.0711\n",
            "Epoch 5/5\n",
            "1/1 [==============================] - 0s 17ms/step - loss: 0.0696\n"
          ]
        },
        {
          "output_type": "execute_result",
          "data": {
            "text/plain": [
              "<keras.src.callbacks.History at 0x7d2adff7fdc0>"
            ]
          },
          "metadata": {},
          "execution_count": 28
        }
      ],
      "source": [
        "model.fit(xs,ys, epochs=5)"
      ]
    },
    {
      "cell_type": "markdown",
      "metadata": {
        "id": "L45KHmGiJ77k"
      },
      "source": [
        "### Predict\n",
        "---\n",
        "Anota el número de épocas vs la predicción"
      ]
    },
    {
      "cell_type": "code",
      "execution_count": 29,
      "metadata": {
        "colab": {
          "base_uri": "https://localhost:8080/"
        },
        "id": "fRZGCoXuJ77k",
        "outputId": "fe2d9587-7150-495c-a619-4d9042ca0c1c"
      },
      "outputs": [
        {
          "output_type": "stream",
          "name": "stdout",
          "text": [
            "1/1 [==============================] - 0s 116ms/step\n"
          ]
        },
        {
          "output_type": "execute_result",
          "data": {
            "text/plain": [
              "array([[18.23028]], dtype=float32)"
            ]
          },
          "metadata": {},
          "execution_count": 29
        }
      ],
      "source": [
        "model.predict([10])"
      ]
    },
    {
      "cell_type": "markdown",
      "metadata": {
        "id": "AQkysHAsJ77k"
      },
      "source": [
        "### Recapitulando\n",
        "---"
      ]
    },
    {
      "cell_type": "markdown",
      "metadata": {
        "id": "4esPrxFZJ77l"
      },
      "source": [
        "Importar Librerias"
      ]
    },
    {
      "cell_type": "code",
      "execution_count": 26,
      "metadata": {
        "colab": {
          "base_uri": "https://localhost:8080/"
        },
        "id": "LBox7bfYJ77l",
        "outputId": "589a00a3-2290-4a7d-a062-fafa9207a085"
      },
      "outputs": [
        {
          "output_type": "stream",
          "name": "stdout",
          "text": [
            "2.15.0\n"
          ]
        }
      ],
      "source": [
        "import tensorflow as tf\n",
        "import numpy as np\n",
        "from tensorflow import keras\n",
        "\n",
        "print(tf.__version__)"
      ]
    },
    {
      "cell_type": "markdown",
      "metadata": {
        "id": "ve-E217ZJ77l"
      },
      "source": [
        "Construir la red"
      ]
    },
    {
      "cell_type": "code",
      "execution_count": 27,
      "metadata": {
        "id": "BIY_Z48AJ77m"
      },
      "outputs": [],
      "source": [
        "model2 = tf.keras.Sequential(keras.layers.Dense(units=1, input_shape = [1]))"
      ]
    },
    {
      "cell_type": "markdown",
      "metadata": {
        "id": "_OnZjYCsJ77m"
      },
      "source": [
        "Compilar (la funcion de activation y de error)"
      ]
    },
    {
      "cell_type": "code",
      "execution_count": 30,
      "metadata": {
        "id": "ndJGU8HaJ77m"
      },
      "outputs": [],
      "source": [
        "model2.compile(optimizer='sgd', loss='mean_squared_error')"
      ]
    },
    {
      "cell_type": "markdown",
      "metadata": {
        "id": "1K2d8CPoJ77m"
      },
      "source": [
        "Alimentar los datos"
      ]
    },
    {
      "cell_type": "code",
      "execution_count": 31,
      "metadata": {
        "id": "DiOEkiYeJ77n"
      },
      "outputs": [],
      "source": [
        "xs2 = np.array([-1.0, 0.0, 1.0, 2.0, 3.0, 4.0], dtype=float)\n",
        "ys2 = np.array([-3.0, -1.0, 1.0, 3.0, 5.0, 7.0], dtype=float)"
      ]
    },
    {
      "cell_type": "code",
      "source": [
        "# prompt: make a plot of xs2, ys2\n",
        "\n",
        "plt.plot(xs2, ys2, '.')\n",
        "plt.xlabel('x')\n",
        "plt.ylabel('y')\n",
        "plt.show()\n"
      ],
      "metadata": {
        "colab": {
          "base_uri": "https://localhost:8080/",
          "height": 470
        },
        "id": "DjXs9_iyPiY3",
        "outputId": "c355a5cd-e997-4065-8f9c-6ccaf7333656"
      },
      "execution_count": 40,
      "outputs": [
        {
          "output_type": "display_data",
          "data": {
            "text/plain": [
              "<Figure size 640x480 with 1 Axes>"
            ],
            "image/png": "[encoded data removed]"
          },
          "metadata": {}
        }
      ]
    },
    {
      "cell_type": "markdown",
      "metadata": {
        "id": "NpXBAprkJ77n"
      },
      "source": [
        "Entrenar"
      ]
    },
    {
      "cell_type": "code",
      "execution_count": 32,
      "metadata": {
        "colab": {
          "base_uri": "https://localhost:8080/"
        },
        "id": "I425-XuKJ77n",
        "outputId": "3c5f693a-ed93-4c30-9118-490b2fcc391f"
      },
      "outputs": [
        {
          "output_type": "execute_result",
          "data": {
            "text/plain": [
              "<keras.src.callbacks.History at 0x7d2adff50df0>"
            ]
          },
          "metadata": {},
          "execution_count": 32
        }
      ],
      "source": [
        "model2.fit(xs2, ys2, epochs=500, verbose=False)"
      ]
    },
    {
      "cell_type": "markdown",
      "metadata": {
        "id": "e5k-isnJJ77n"
      },
      "source": [
        "Predecir"
      ]
    },
    {
      "cell_type": "code",
      "execution_count": 71,
      "metadata": {
        "colab": {
          "base_uri": "https://localhost:8080/"
        },
        "id": "nmoA66zWJ77o",
        "outputId": "742aa5a4-583b-4f0f-c3dc-14ba41c98c68"
      },
      "outputs": [
        {
          "output_type": "stream",
          "name": "stdout",
          "text": [
            "1/1 [==============================] - 0s 35ms/step\n"
          ]
        },
        {
          "output_type": "execute_result",
          "data": {
            "text/plain": [
              "array([[18.980473]], dtype=float32)"
            ]
          },
          "metadata": {},
          "execution_count": 71
        }
      ],
      "source": [
        "model2.predict([10])"
      ]
    },
    {
      "cell_type": "markdown",
      "metadata": {
        "id": "u1KTzoTQJ77o"
      },
      "source": [
        "### Explorando la convergencia del perceptron"
      ]
    },
    {
      "cell_type": "code",
      "execution_count": 34,
      "metadata": {
        "id": "a1cAJO9DJ77o"
      },
      "outputs": [],
      "source": [
        "import matplotlib.pyplot as plt"
      ]
    },
    {
      "cell_type": "code",
      "execution_count": 67,
      "metadata": {
        "id": "vuYLkvWwJ77o"
      },
      "outputs": [],
      "source": [
        "n_epochs = []\n",
        "y_pred = []\n",
        "\n",
        "for epochs in range(1,100):\n",
        "    model3 = tf.keras.Sequential(\n",
        "        keras.layers.Dense(units=1, input_shape = [1])\n",
        "        )\n",
        "    model3.compile(optimizer='sgd', loss='mean_squared_error')\n",
        "    model3.fit(xs, ys, epochs=epochs, verbose=0)\n",
        "    n_epochs.append(epochs)\n",
        "    y_pred.append(model3.predict([10], verbose=0)[0][0])"
      ]
    },
    {
      "cell_type": "code",
      "execution_count": 68,
      "metadata": {
        "colab": {
          "base_uri": "https://localhost:8080/",
          "height": 493
        },
        "id": "FkasLN5oJ77p",
        "outputId": "ef4ab77c-b4b6-4f38-c49e-aee3b5fd1d60"
      },
      "outputs": [
        {
          "output_type": "display_data",
          "data": {
            "text/plain": [
              "<Figure size 640x480 with 1 Axes>"
            ],
            "image/png": "[encoded data removed]"
          },
          "metadata": {}
        }
      ],
      "source": [
        "# Plotting n_epochs vs y_pred\n",
        "plt.plot(n_epochs, y_pred, marker='o', linestyle='-')\n",
        "plt.axhline(y=19, color='red', linestyle='--', label='Horizontal Line at y=19')\n",
        "plt.plot()\n",
        "plt.xlabel('Number of Epochs')\n",
        "plt.ylabel('Predicted Value for x=10')\n",
        "plt.title('Convergence of prediction -> Real value: 19')\n",
        "\n",
        "# Set the y-axis limits to go up to 20\n",
        "plt.ylim(-5, 25)\n",
        "\n",
        "plt.grid(True)\n",
        "plt.show()"
      ]
    },
    {
      "cell_type": "code",
      "source": [
        "model3.predict([10])"
      ],
      "metadata": {
        "colab": {
          "base_uri": "https://localhost:8080/"
        },
        "id": "2kV5GlNBRBa4",
        "outputId": "36d8ff02-2247-4bbc-f05b-80ec13427c77"
      },
      "execution_count": 70,
      "outputs": [
        {
          "output_type": "stream",
          "name": "stdout",
          "text": [
            "1/1 [==============================] - 0s 38ms/step\n"
          ]
        },
        {
          "output_type": "execute_result",
          "data": {
            "text/plain": [
              "array([[17.83247]], dtype=float32)"
            ]
          },
          "metadata": {},
          "execution_count": 70
        }
      ]
    }
  ],
  "metadata": {
    "kernelspec": {
      "display_name": "tensor",
      "language": "python",
      "name": "python3"
    },
    "language_info": {
      "codemirror_mode": {
        "name": "ipython",
        "version": 3
      },
      "file_extension": ".py",
      "mimetype": "text/x-python",
      "name": "python",
      "nbconvert_exporter": "python",
      "pygments_lexer": "ipython3",
      "version": "3.10.12"
    },
    "orig_nbformat": 4,
    "colab": {
      "provenance": [],
      "include_colab_link": true
    }
  },
  "nbformat": 4,
  "nbformat_minor": 0
}