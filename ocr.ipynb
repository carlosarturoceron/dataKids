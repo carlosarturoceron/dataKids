{
  "cells": [
    {
      "cell_type": "markdown",
      "metadata": {
        "id": "view-in-github",
        "colab_type": "text"
      },
      "source": [
        "<a href=\"https://colab.research.google.com/github/carlosarturoceron/dataKids/blob/main/ocr.ipynb\" target=\"_parent\"><img src=\"https://colab.research.google.com/assets/colab-badge.svg\" alt=\"Open In Colab\"/></a>"
      ]
    },
    {
      "cell_type": "markdown",
      "source": [
        "## Introducción\n",
        "\n",
        "En esta libreta de Python, exploraremos el conjunto de datos MNIST, un conjunto de datos clásico para el aprendizaje automático y la visión por computadora. Visualizaremos las imágenes del conjunto de datos, las transformaremos en píxeles y entrenaremos una red neuronal para clasificar los dígitos escritos a mano.\n",
        "\n",
        "### Importación de librerías\n",
        "\n",
        "Comenzaremos importando las librerías necesarias para trabajar con el conjunto de datos MNIST y entrenar la red neuronal:"
      ],
      "metadata": {
        "id": "4M4BfubCWUHQ"
      }
    },
    {
      "cell_type": "code",
      "source": [
        "import tensorflow as tf\n",
        "import numpy as np\n",
        "import matplotlib.pyplot as plt"
      ],
      "outputs": [],
      "execution_count": 1,
      "metadata": {
        "id": "SLUWJmP_WUHV"
      }
    },
    {
      "cell_type": "markdown",
      "source": [
        "### Carga del conjunto de datos MNIST\n",
        "\n",
        "El conjunto de datos MNIST está disponible en TensorFlow. Podemos cargarlo utilizando la siguiente función:"
      ],
      "metadata": {
        "id": "cetXyB4iWUHX"
      }
    },
    {
      "cell_type": "code",
      "source": [
        "(x_train, y_train), (x_test, y_test) = tf.keras.datasets.mnist.load_data()"
      ],
      "outputs": [
        {
          "output_type": "stream",
          "name": "stdout",
          "text": [
            "Downloading data from https://storage.googleapis.com/tensorflow/tf-keras-datasets/mnist.npz\n",
            "11490434/11490434 [==============================] - 0s 0us/step\n"
          ]
        }
      ],
      "execution_count": 2,
      "metadata": {
        "id": "8ZVTPpXpWUHX",
        "colab": {
          "base_uri": "https://localhost:8080/"
        },
        "outputId": "1f124d47-be6f-4d4f-e921-91c8d0861d1c"
      }
    },
    {
      "cell_type": "markdown",
      "source": [
        "La variable `x_train` contiene las imágenes de entrenamiento, mientras que `y_train` contiene las etiquetas correspondientes (los dígitos escritos a mano). `x_test` y `y_test` contienen las imágenes y etiquetas de prueba, respectivamente.\n",
        "\n",
        "### Visualización de imágenes\n",
        "\n",
        "Para tener una idea del conjunto de datos, podemos visualizar algunas imágenes:"
      ],
      "metadata": {
        "id": "Cx3U6Z15WUHX"
      }
    },
    {
      "cell_type": "code",
      "source": [
        "plt.figure(figsize=(10, 5))\n",
        "for i in range(10):\n",
        "    plt.subplot(2, 5, i + 1)\n",
        "    plt.imshow(x_train[i], cmap='gray')\n",
        "    plt.title(y_train[i])\n",
        "plt.show()"
      ],
      "outputs": [
        {
          "output_type": "display_data",
          "data": {
            "text/plain": [
              "<Figure size 1000x500 with 10 Axes>"
            ],
            "image/png": "[encoded data removed]"
          },
          "metadata": {}
        }
      ],
      "execution_count": 3,
      "metadata": {
        "id": "3CBW8TlPWUHY",
        "colab": {
          "base_uri": "https://localhost:8080/",
          "height": 446
        },
        "outputId": "5ded9f55-fed3-4868-9876-a28801b343c2"
      }
    },
    {
      "cell_type": "markdown",
      "source": [
        "Este código muestra 10 imágenes aleatorias del conjunto de datos de entrenamiento, junto con sus dígitos correspondientes.\n",
        "\n",
        "### Transformación de imágenes en píxeles\n",
        "\n",
        "Las redes neuronales funcionan mejor con datos numéricos. Por lo tanto, convertiremos las imágenes en matrices de píxeles:"
      ],
      "metadata": {
        "id": "-l5zggznWUHY"
      }
    },
    {
      "cell_type": "code",
      "source": [
        "x_train = x_train.reshape(60000, 28, 28, 1).astype('float32') / 255\n",
        "x_test = x_test.reshape(10000, 28, 28, 1).astype('float32') / 255"
      ],
      "outputs": [],
      "execution_count": 4,
      "metadata": {
        "id": "2UlQSxSPWUHZ"
      }
    },
    {
      "cell_type": "markdown",
      "source": [
        "Este código transforma las imágenes en matrices tridimensionales, donde cada matriz representa una imagen con 28 filas y 28 columnas (píxeles). La escala de los valores de los píxeles se normaliza entre 0 y 1.\n",
        "\n",
        "### Definición de la red neuronal\n",
        "\n",
        "Ahora definiremos la arquitectura de la red neuronal:"
      ],
      "metadata": {
        "id": "6pObDg3OWUHZ"
      }
    },
    {
      "cell_type": "code",
      "source": [
        "model = tf.keras.Sequential([\n",
        "    tf.keras.layers.Conv2D(32, (3, 3), activation='relu', input_shape=(28, 28, 1)),\n",
        "    tf.keras.layers.MaxPooling2D((2, 2)),\n",
        "    tf.keras.layers.Conv2D(64, (3, 3), activation='relu'),\n",
        "    tf.keras.layers.MaxPooling2D((2, 2)),\n",
        "    tf.keras.layers.Flatten(),\n",
        "    tf.keras.layers.Dense(128, activation='relu'),\n",
        "    tf.keras.layers.Dense(10, activation='softmax')\n",
        "])"
      ],
      "outputs": [],
      "execution_count": 26,
      "metadata": {
        "id": "1icmXl7sWUHZ"
      }
    },
    {
      "cell_type": "markdown",
      "source": [
        "Esta red neuronal convolucional consta de dos capas convolucionales, dos capas de max pooling, una capa de aplanamiento y dos capas densas. La capa de salida utiliza la función de activación softmax para clasificar las imágenes en 10 clases (los dígitos del 0 al 9).\n",
        "\n",
        "### Compilación y entrenamiento de la red neuronal\n",
        "\n",
        "Compilaremos la red neuronal utilizando un optimizador, una función de pérdida y una métrica de evaluación:"
      ],
      "metadata": {
        "id": "WyAidZWuWUHa"
      }
    },
    {
      "cell_type": "code",
      "source": [
        "model.compile(optimizer='adam',\n",
        "              loss='sparse_categorical_crossentropy',\n",
        "              metrics=['accuracy'])\n",
        "\n",
        "model.fit(x_train, y_train, epochs=5)"
      ],
      "outputs": [
        {
          "output_type": "stream",
          "name": "stdout",
          "text": [
            "Epoch 1/5\n",
            "1875/1875 [==============================] - 11s 3ms/step - loss: 0.1285 - accuracy: 0.9615\n",
            "Epoch 2/5\n",
            "1875/1875 [==============================] - 7s 4ms/step - loss: 0.0436 - accuracy: 0.9870\n",
            "Epoch 3/5\n",
            "1875/1875 [==============================] - 6s 3ms/step - loss: 0.0284 - accuracy: 0.9911\n",
            "Epoch 4/5\n",
            "1875/1875 [==============================] - 7s 4ms/step - loss: 0.0217 - accuracy: 0.9934\n",
            "Epoch 5/5\n",
            "1875/1875 [==============================] - 6s 3ms/step - loss: 0.0160 - accuracy: 0.9948\n"
          ]
        },
        {
          "output_type": "execute_result",
          "data": {
            "text/plain": [
              "<keras.src.callbacks.History at 0x7b84a1d3f250>"
            ]
          },
          "metadata": {},
          "execution_count": 27
        }
      ],
      "execution_count": 27,
      "metadata": {
        "colab": {
          "base_uri": "https://localhost:8080/"
        },
        "id": "Id8m7ZyFWUHa",
        "outputId": "8c9899be-67c0-4926-c60e-5e7990a38780"
      }
    },
    {
      "cell_type": "markdown",
      "source": [
        "Este código entrena la red neuronal durante 5 épocas (pasadas) en el conjunto de datos de entrenamiento.\n",
        "\n",
        "### Evaluación de la red neuronal\n",
        "\n",
        "Finalmente, evaluaremos la precisión de la red neuronal en el conjunto de datos de prueba:"
      ],
      "metadata": {
        "id": "eXDQZsleWUHa"
      }
    },
    {
      "cell_type": "code",
      "source": [
        "test_loss, test_acc = model.evaluate(x_test, y_test)\n",
        "print('Precisión:', test_acc)"
      ],
      "outputs": [
        {
          "output_type": "stream",
          "name": "stdout",
          "text": [
            "313/313 [==============================] - 1s 3ms/step - loss: 0.0292 - accuracy: 0.9915\n",
            "Precisión: 0.9915000200271606\n"
          ]
        }
      ],
      "execution_count": 28,
      "metadata": {
        "id": "OexYDYJxWUHb",
        "colab": {
          "base_uri": "https://localhost:8080/"
        },
        "outputId": "655b8a20-0d24-4b81-a424-78dc85d1966a"
      }
    },
    {
      "cell_type": "code",
      "source": [
        "model.predict(x_test[0].reshape(1, 28, 28, 1))"
      ],
      "metadata": {
        "colab": {
          "base_uri": "https://localhost:8080/"
        },
        "id": "FI6zRkk9ZWPO",
        "outputId": "a4dcdadd-a68a-434c-d64a-b8ab4d497437"
      },
      "execution_count": 37,
      "outputs": [
        {
          "output_type": "stream",
          "name": "stdout",
          "text": [
            "1/1 [==============================] - 0s 134ms/step\n"
          ]
        },
        {
          "output_type": "execute_result",
          "data": {
            "text/plain": [
              "array([[1.3652878e-08, 1.0824500e-09, 7.4210266e-06, 6.2510680e-06, 2.9111100e-09, 1.8323345e-08, 2.5867568e-16, 9.9998510e-01, 4.1806302e-08, 1.1450711e-06]], dtype=float32)"
            ]
          },
          "metadata": {},
          "execution_count": 37
        }
      ]
    },
    {
      "cell_type": "markdown",
      "source": [
        "Este código muestra la precisión de la red neuronal en el conjunto de datos de prueba.\n",
        "\n",
        "### Resumen\n",
        "\n",
        "En esta libreta, hemos explorado el conjunto de datos MNIST, visualizado las imágenes y las transformado en píxeles, y entrenado una red neuronal para clasificar los dígitos escritos a mano. La red neuronal alcanza una precisión"
      ],
      "metadata": {
        "id": "PqeJmawaWUHb"
      }
    }
  ],
  "metadata": {
    "colab": {
      "provenance": [],
      "gpuType": "T4",
      "include_colab_link": true
    },
    "kernelspec": {
      "display_name": "Python 3",
      "name": "python3"
    },
    "accelerator": "GPU"
  },
  "nbformat": 4,
  "nbformat_minor": 0
}