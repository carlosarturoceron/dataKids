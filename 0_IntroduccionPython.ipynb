{
  "cells": [
    {
      "cell_type": "markdown",
      "metadata": {
        "id": "view-in-github",
        "colab_type": "text"
      },
      "source": [
        "<a href=\"https://colab.research.google.com/github/carlosarturoceron/dataKids/blob/main/0_IntroduccionPython.ipynb\" target=\"_parent\"><img src=\"https://colab.research.google.com/assets/colab-badge.svg\" alt=\"Open In Colab\"/></a>"
      ]
    },
    {
      "cell_type": "markdown",
      "source": [
        "# Introducción a Python\n",
        "\n",
        "Este notebook es una introducción a algunos conceptos básicos de Python. Aprenderemos sobre variables, estructuras de datos, control de flujo y funciones.\n",
        "\n",
        "## 1. Variables\n",
        "\n",
        "Las variables son como contenedores que almacenan datos en la memoria de la computadora. En Python, para crear una variable, simplemente le asignamos un nombre y un valor. Los nombres de las variables deben seguir algunas reglas:\n",
        "\n",
        "* Deben comenzar con una letra mayúscula o minúscula (_), pero no con un número.\n",
        "* Pueden contener letras, números y guiones bajos (_).\n",
        "* Son sensibles a las mayúsculas y minúsculas (edad es diferente de Edad).\n",
        "\n",
        "Veamos algunos ejemplos de cómo crear y usar variables:"
      ],
      "metadata": {
        "id": "QGpfPT-PfZ6x"
      }
    },
    {
      "cell_type": "code",
      "source": [
        "# Entero\n",
        "mi_edad = 25\n",
        "\n",
        "# Decimal\n",
        "pi = 3.14159\n",
        "\n",
        "# Cadena de texto\n",
        "nombre = \"Juan\"\n",
        "\n",
        "# Booleano\n",
        "verdadero = True\n",
        "falso = False\n",
        "\n",
        "print(\"Mi edad es:\", mi_edad)\n",
        "print(\"El valor de pi es:\", pi)\n",
        "print(\"Mi nombre es:\", nombre)\n",
        "print(\"¿Verdadero?\", verdadero)"
      ],
      "outputs": [
        {
          "output_type": "stream",
          "name": "stdout",
          "text": [
            "Mi edad es: 25\n",
            "El valor de pi es: 3.14159\n",
            "Mi nombre es: Juan\n",
            "¿Verdadero? True\n"
          ]
        }
      ],
      "execution_count": 1,
      "metadata": {
        "colab": {
          "base_uri": "https://localhost:8080/"
        },
        "id": "ZxL4J-7sfZ62",
        "outputId": "985f636c-11e6-4a8f-9bc8-b101d8765147"
      }
    },
    {
      "cell_type": "markdown",
      "source": [
        "## 2. Estructuras de Datos\n",
        "\n",
        "Las estructuras de datos nos permiten organizar información de diferentes maneras. En Python, tenemos varias estructuras de datos comunes:\n",
        "\n",
        "* **Listas:** Las listas son colecciones ordenadas de elementos. Se pueden almacenar elementos de diferentes tipos de datos. Se crean usando corchetes `[]`."
      ],
      "metadata": {
        "id": "IQi05MAUfZ63"
      }
    },
    {
      "cell_type": "code",
      "source": [
        "frutas = [\"manzana\", \"pera\", \"banana\"]\n",
        "numeros = [1, 2, 3, 4]\n",
        "\n",
        "# Acceder a elementos\n",
        "primera_fruta = frutas[0]  # manzana\n",
        "ultimo_numero = numeros[-1]  # 4\n",
        "\n",
        "# Modificar elementos\n",
        "frutas[1] = \"uvas\"\n",
        "\n",
        "# Recorrer la lista\n",
        "for fruta in frutas:\n",
        "  print(fruta)"
      ],
      "outputs": [
        {
          "output_type": "stream",
          "name": "stdout",
          "text": [
            "manzana\n",
            "uvas\n",
            "banana\n"
          ]
        }
      ],
      "execution_count": 2,
      "metadata": {
        "colab": {
          "base_uri": "https://localhost:8080/"
        },
        "id": "UrmzqNnFfZ64",
        "outputId": "a9608a70-ce53-445d-ca81-ad89262a4414"
      }
    },
    {
      "cell_type": "markdown",
      "source": [
        "* **Tuplas:** Las tuplas son similares a las listas, pero son inmutables, es decir, no se pueden modificar sus elementos una vez creada. Se crean usando paréntesis `()`."
      ],
      "metadata": {
        "id": "Ndj73P6IfZ64"
      }
    },
    {
      "cell_type": "code",
      "source": [
        "dias_semana = (\"lunes\", \"martes\", \"miércoles\")\n",
        "\n",
        "# Acceder a elementos (igual que listas)\n",
        "primer_dia = dias_semana[0]\n",
        "\n",
        "# Las tuplas no se pueden modificar\n",
        "# dias_semana[1] = \"jueves\" dará un error"
      ],
      "outputs": [],
      "execution_count": 3,
      "metadata": {
        "id": "pgk_5fRnfZ65"
      }
    },
    {
      "cell_type": "markdown",
      "source": [
        "* **Diccionarios:** Los diccionarios almacenan datos en pares clave-valor. Se crean usando llaves `{}`. Las claves deben ser únicas e invariables (como cadenas o números)."
      ],
      "metadata": {
        "id": "PCLA15U4fZ65"
      }
    },
    {
      "cell_type": "code",
      "source": [
        "persona = {\n",
        "  \"nombre\": \"Ana\",\n",
        "  \"edad\": 30,\n",
        "  \"ciudad\": \"Monterrey\"\n",
        "}\n",
        "\n",
        "# Acceder a valores por clave\n",
        "nombre_persona = persona[\"nombre\"]\n",
        "\n",
        "# Agregar nuevos elementos\n",
        "persona[\"profesion\"] = \"Ingeniera\"\n",
        "\n",
        "# Recorrer el diccionario\n",
        "for clave, valor in persona.items():\n",
        "  print(f\"{clave}: {valor}\")"
      ],
      "outputs": [
        {
          "output_type": "stream",
          "name": "stdout",
          "text": [
            "nombre: Ana\n",
            "edad: 30\n",
            "ciudad: Monterrey\n",
            "profesion: Ingeniera\n"
          ]
        }
      ],
      "execution_count": 4,
      "metadata": {
        "colab": {
          "base_uri": "https://localhost:8080/"
        },
        "id": "56jKainJfZ65",
        "outputId": "3b4ded54-d532-42b9-c9af-1ae0aa18b0e5"
      }
    },
    {
      "cell_type": "markdown",
      "source": [
        "## 3. Sentencias Condicionales\n",
        "\n",
        "Las sentencias condicionales nos permiten controlar el flujo de ejecución del programa en base a ciertas condiciones.\n",
        "\n",
        "* **if:** La sentencia `if` evalúa una condición. Si la condición es verdadera, se ejecuta el código dentro del bloque `if`."
      ],
      "metadata": {
        "id": "M0yxts7WfZ66"
      }
    },
    {
      "cell_type": "code",
      "source": [
        "edad = 18\n",
        "\n",
        "if edad >= 18:\n",
        "  print(\"Eres mayor de edad\")\n",
        "else:\n",
        "  print(\"Eres menor de edad\")"
      ],
      "outputs": [
        {
          "output_type": "stream",
          "name": "stdout",
          "text": [
            "Eres mayor de edad\n"
          ]
        }
      ],
      "execution_count": 5,
      "metadata": {
        "colab": {
          "base_uri": "https://localhost:8080/"
        },
        "id": "jEqRxxwZfZ66",
        "outputId": "3cfbf1c9-078e-40fd-b96e-65996d16c7c6"
      }
    },
    {
      "cell_type": "markdown",
      "source": [
        "* **elif y else:** Se pueden usar sentencias `elif` para comprobar condiciones adicionales y `else` para ejecutar código si ninguna de las condiciones anteriores es verdadera."
      ],
      "metadata": {
        "id": "4kz7gcsPfZ66"
      }
    },
    {
      "cell_type": "code",
      "source": [
        "calificacion = 85\n",
        "\n",
        "if calificacion >= 90:\n",
        "  print(\"Excelente\")\n",
        "elif calificacion >= 80:\n",
        "  print(\"Muy bueno\")\n",
        "else:\n",
        "  print(\"Regular\")"
      ],
      "outputs": [
        {
          "output_type": "stream",
          "name": "stdout",
          "text": [
            "Muy bueno\n"
          ]
        }
      ],
      "execution_count": 6,
      "metadata": {
        "colab": {
          "base_uri": "https://localhost:8080/"
        },
        "id": "Qbptlk80fZ67",
        "outputId": "4aa29357-4b46-4550-8ec9-6a4ed5416849"
      }
    },
    {
      "cell_type": "markdown",
      "source": [
        "## 4. Sentencias de Bucles\n",
        "\n",
        "Los bucles nos permiten repetir un bloque de código un número determinado de veces o hasta que se cumpla una condición.\n",
        "\n",
        "* **for:** El bucle `for` itera sobre una secuencia de elementos (como una lista o una cadena)."
      ],
      "metadata": {
        "id": "Hp8t_d7XfZ67"
      }
    },
    {
      "cell_type": "code",
      "source": [
        "colores = [\"rojo\", \"verde\", \"azul\"]\n",
        "\n",
        "for color in colores:\n",
        "  print(color)"
      ],
      "outputs": [
        {
          "output_type": "stream",
          "name": "stdout",
          "text": [
            "rojo\n",
            "verde\n",
            "azul\n"
          ]
        }
      ],
      "execution_count": 7,
      "metadata": {
        "colab": {
          "base_uri": "https://localhost:8080/"
        },
        "id": "_MuMEr1hfZ67",
        "outputId": "9ec2821c-af1a-4164-d4cd-b4841d5fd1f9"
      }
    },
    {
      "cell_type": "markdown",
      "source": [
        "* **while:** El bucle `while` ejecuta un bloque de código repetidamente mientras la condición especificada sea verdadera."
      ],
      "metadata": {
        "id": "qtHVk-31fZ68"
      }
    },
    {
      "cell_type": "code",
      "source": [
        "contador = 0\n",
        "\n",
        "while contador < 5:\n",
        "  print(\"Iteración\", contador)\n",
        "  contador += 1"
      ],
      "outputs": [
        {
          "output_type": "stream",
          "name": "stdout",
          "text": [
            "Iteración 0\n",
            "Iteración 1\n",
            "Iteración 2\n",
            "Iteración 3\n",
            "Iteración 4\n"
          ]
        }
      ],
      "execution_count": 8,
      "metadata": {
        "colab": {
          "base_uri": "https://localhost:8080/"
        },
        "id": "rwCQhRT7fZ68",
        "outputId": "8b9cecc1-9664-4084-aefd-13ece32dd683"
      }
    },
    {
      "cell_type": "markdown",
      "source": [
        "## 5. Comprensión de Listas\n",
        "\n",
        "Las compresiones de listas son una forma concisa de crear listas a partir de otras iterables. Permiten generar listas sin necesidad de usar bucles `for`.\n",
        "\n",
        "**Sintaxis:**"
      ],
      "metadata": {
        "id": "BhiEXRm4gExM"
      }
    },
    {
      "cell_type": "markdown",
      "source": [
        "```python\n",
        "[expresion for variable in iterable if condicion]\n",
        "```"
      ],
      "metadata": {
        "id": "y-Qi_-htgWhV"
      }
    },
    {
      "cell_type": "markdown",
      "source": [
        "**Explicación de la sintaxis:**\n",
        "\n",
        "* **expresion:** La expresión que se evalúa para cada elemento de la lista resultante.\n",
        "* **variable:** La variable que itera sobre el iterable.\n",
        "* **iterable:** La secuencia de elementos sobre la que se itera (lista, tupla, cadena, etc.).\n",
        "* **condicion (opcional):** Una condición que se evalúa para cada elemento. Si es `True`, el elemento se incluye en la lista resultante.\n",
        "\n",
        "**Ejemplos:**\n",
        "\n",
        "* **Crear una lista de cuadrados de los números del 1 al 10:**"
      ],
      "metadata": {
        "id": "d-b6kEsogExO"
      }
    },
    {
      "cell_type": "code",
      "source": [
        "cuadrados = [x * x for x in range(1, 11)]\n",
        "print(cuadrados)  # Salida: [1, 4, 9, 16, 25, 36, 49, 64, 81, 100]"
      ],
      "outputs": [
        {
          "output_type": "stream",
          "name": "stdout",
          "text": [
            "[1, 4, 9, 16, 25, 36, 49, 64, 81, 100]\n"
          ]
        }
      ],
      "execution_count": 9,
      "metadata": {
        "id": "r-pm-XqugExP",
        "colab": {
          "base_uri": "https://localhost:8080/"
        },
        "outputId": "e2e85567-0c07-49cc-e0e2-350c63a13f6a"
      }
    },
    {
      "cell_type": "markdown",
      "source": [
        "* **Crear una lista de pares pares del 1 al 20:**"
      ],
      "metadata": {
        "id": "er88fXDwgExQ"
      }
    },
    {
      "cell_type": "code",
      "source": [
        "pares_hasta_20 = [x for x in range(1, 21) if x % 2 == 0]\n",
        "print(pares_hasta_20)  # Salida: [2, 4, 6, 8, 10, 12, 14, 16, 18, 20]"
      ],
      "outputs": [
        {
          "output_type": "stream",
          "name": "stdout",
          "text": [
            "[2, 4, 6, 8, 10, 12, 14, 16, 18, 20]\n"
          ]
        }
      ],
      "execution_count": 10,
      "metadata": {
        "id": "UUjVrPLpgExQ",
        "colab": {
          "base_uri": "https://localhost:8080/"
        },
        "outputId": "cc4e830c-8229-4e5c-ebe3-fef9a7cbb5d9"
      }
    },
    {
      "cell_type": "markdown",
      "source": [
        "* **Crear una lista de nombres en minúscula de una lista de nombres:**"
      ],
      "metadata": {
        "id": "jTf7x_ERgExQ"
      }
    },
    {
      "cell_type": "code",
      "source": [
        "nombres = [\"ANA\", \"JUAN\", \"PEDRO\"]\n",
        "nombres_minuscula = [nombre.lower() for nombre in nombres]\n",
        "print(nombres_minuscula)  # Salida: [\"ana\", \"juan\", \"pedro\"]"
      ],
      "outputs": [
        {
          "output_type": "stream",
          "name": "stdout",
          "text": [
            "['ana', 'juan', 'pedro']\n"
          ]
        }
      ],
      "execution_count": 11,
      "metadata": {
        "id": "dfX0iKPXgExR",
        "colab": {
          "base_uri": "https://localhost:8080/"
        },
        "outputId": "63b5df3f-adce-42c3-f64d-b8d4ac7afa4e"
      }
    }
  ],
  "metadata": {
    "colab": {
      "provenance": [],
      "include_colab_link": true
    },
    "kernelspec": {
      "display_name": "Python 3",
      "name": "python3"
    }
  },
  "nbformat": 4,
  "nbformat_minor": 0
}